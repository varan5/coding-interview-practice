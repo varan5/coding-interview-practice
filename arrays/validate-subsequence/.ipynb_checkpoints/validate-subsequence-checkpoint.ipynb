{
 "cells": [
  {
   "cell_type": "markdown",
   "metadata": {},
   "source": [
    "# Validate Subsequence"
   ]
  },
  {
   "cell_type": "markdown",
   "metadata": {},
   "source": [
    "# "
   ]
  },
  {
   "cell_type": "markdown",
   "metadata": {},
   "source": [
    "### Question <img src=\"https://github.com/varan5/coding-interview-practice/blob/master/arrays/validate-subsequence/validate-subsequence-image.png\" width=\"750\" height=\"750\">"
   ]
  },
  {
   "cell_type": "markdown",
   "metadata": {},
   "source": [
    "# "
   ]
  },
  {
   "cell_type": "markdown",
   "metadata": {},
   "source": [
    "### Time: O(n)-----Space: O(1)"
   ]
  },
  {
   "cell_type": "code",
   "execution_count": 13,
   "metadata": {},
   "outputs": [],
   "source": [
    "def validateSubsequence(array, sequence):\n",
    "    arrayIndex = 0\n",
    "    seqIndex = 0\n",
    "    while arrayIndex < len(array) and seqIndex < len(sequence):\n",
    "        if array[arrayIndex] == sequence[seqIndex]:\n",
    "            seqIndex += 1\n",
    "        arrayIndex += 1\n",
    "    \n",
    "    return seqIndex == len(sequence)"
   ]
  },
  {
   "cell_type": "markdown",
   "metadata": {},
   "source": [
    "# "
   ]
  },
  {
   "cell_type": "markdown",
   "metadata": {},
   "source": [
    "### Algorithm: <br><br>-> In the program, we are receiving an array, and sequence as a parameter. <br>-> We have the starting index of array and sequence in the variables 'arrayIndex' and 'seqIndex' respectively.<br>-> We are traversing through the array and sequence in the 'while' condition.<br>-> If the condition array[arrayIndex] == sequence[seqIndex] is 'true', them we increament 'seqIndex' by 1.<br>-> If the above condition is 'false', then we increament 'arrayIndex' by 1.<br>-> Loop completes and we come out of the loop to check the final condition.<br>-> Lets return the boolean result of the condition seqIndex == len(sequence).<br><br><br>"
   ]
  },
  {
   "cell_type": "markdown",
   "metadata": {},
   "source": [
    "### Video Explanation <video controls src=\"Validate Subsequence-video.mp4\" height=\"750\" width=\"950\" />"
   ]
  },
  {
   "cell_type": "code",
   "execution_count": null,
   "metadata": {},
   "outputs": [],
   "source": []
  }
 ],
 "metadata": {
  "kernelspec": {
   "display_name": "Python 3",
   "language": "python",
   "name": "python3"
  },
  "language_info": {
   "codemirror_mode": {
    "name": "ipython",
    "version": 3
   },
   "file_extension": ".py",
   "mimetype": "text/x-python",
   "name": "python",
   "nbconvert_exporter": "python",
   "pygments_lexer": "ipython3",
   "version": "3.8.5"
  }
 },
 "nbformat": 4,
 "nbformat_minor": 4
}
